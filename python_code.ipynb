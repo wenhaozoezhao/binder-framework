#!/usr/bin/env python
# coding: utf-8

# In[1]:


import pandas as pd    


# In[2]:


df = pd.read_csv('Value_of_Energy_Cost_Savings_Program_Savings_for_Businesses_-_FY2020.csv', sep= ',', header = 0)


# In[3]:


print(df.head())


# In[4]:


print(df.columns)


# ## Day 4

# ### Q1. How many different companies are represented in the data set?

# In[5]:


num_companies = df['Company Name'].nunique()
print("Number of different companies in the dataset:", num_companies)


# ### Q2. What is the total number of jobs created for businesses in Queens?

# In[6]:


total_jobs_queens = df.loc[df['City'] == 'Queens', 'Job created'].sum()
print("Total number of jobs created for businesses in Queens: ", total_jobs_queens)


# ### Q3. How many different unique email domains names are there in the data set?

# In[7]:


df['domain'] = df['company email'].str.split('@').str[-1]
num_domains = df['domain'].nunique()
print("Number of unique email domains:", num_domains)


# ### Q4. Considering only NTAs with at least 5 listed businesses, what is the average total savings and the total jobs created for each NTA?

# In[8]:


nta_filtered = df.groupby('NTA').filter(lambda x: len(x) >= 5)
nta_stats = nta_filtered.groupby('NTA').agg({'Total Savings': 'mean', 'Job created': 'sum'}).reset_index()


# In[9]:


nta_stats.to_csv('Savings_Jobs_NTA5.csv', index=False)


# # Day 5

# In[10]:


import matplotlib.pyplot as plt


# ### scatter plot of jobs created versus average saving (standard scale) (nta_stats)

# In[11]:


plt.scatter(nta_stats['Total Savings'], nta_stats['Job created'])
plt.xlabel('Average Savings')
plt.ylabel('Job Created')
plt.title('Scatter plot of Jobs Created versus Average Savings (Standard Scale)')
plt.show()


# ### scatter plot of jobs created versus average saving (standard scale) (nta_stats)

# In[12]:


plt.scatter(nta_stats['Total Savings'], nta_stats['Job created'])
plt.xscale('log')
plt.xlabel('Average Savings (log scale)')
plt.ylabel('Job Created')
plt.title('Scatter plot of Jobs Created versus Average Savings (Logarithmic Scale)')
plt.show()


# ### histogram of the log of the average total savings (nta_filtered)

# In[13]:


import numpy as np


# In[14]:


log_avg_savings = nta_filtered.groupby('NTA')['Total Savings'].mean().apply(lambda x: np.log10(x))

plt.hist(log_avg_savings, bins=20)
plt.xlabel('Log of Average Total Savings')
plt.ylabel('Frequency')
plt.title('Histogram of Log of Average Total Savings')
plt.show()


# ### line plot of the total jobs created for each month (full_data)

# In[15]:


import matplotlib.dates as mdates


# In[16]:


df['Date'] = pd.to_datetime(df['Effective Date'])  # Convert the 'Date' column to datetime
df.set_index('Date', inplace=True)  # Set the 'Date' column as the DataFrame's index
 # Aggregate jobs created by month
df.dropna(subset=['Job created'], inplace=True)


# In[17]:


print(df['Job created']) #there are only limited datapoints for monthly job created.


# In[18]:


jobs_by_month = df.resample('M').sum() 


# In[19]:


# Create a line plot of jobs created by month
fig, ax = plt.subplots(figsize=(10, 6))
ax.plot(jobs_by_month.index, jobs_by_month['Job created'])
ax.set_xlabel('Month')
ax.set_ylabel('Total Jobs Created')
ax.set_title('Total Jobs Created by Month')

plt.show()

