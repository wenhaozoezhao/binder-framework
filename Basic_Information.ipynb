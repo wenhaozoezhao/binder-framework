{
 "cells": [
  {
   "cell_type": "code",
   "execution_count": 1,
   "id": "119a1812",
   "metadata": {},
   "outputs": [],
   "source": [
    "import pandas as pd    "
   ]
  },
  {
   "cell_type": "code",
   "execution_count": 2,
   "id": "aeb2fe5f",
   "metadata": {},
   "outputs": [],
   "source": [
    "df = pd.read_csv('data/Value_of_Energy_Cost_Savings_Program_Savings_for_Businesses_-_FY2020.csv', sep= ',', header = 0)"
   ]
  },
  {
   "cell_type": "code",
   "execution_count": 3,
   "id": "652963ef",
   "metadata": {},
   "outputs": [
    {
     "name": "stdout",
     "output_type": "stream",
     "text": [
      "                               Company Name    company contact  \\\n",
      "0                            1 State Street      David Neiburg   \n",
      "1                            100 Church LLC  Edward A. Carroll   \n",
      "2                      100 Wall Investments       Jerry Branam   \n",
      "3               1-10 Bush Terminal Owner LP     Andrew Kimball   \n",
      "4  120 Broadway Acquisitions JV, LLC (Ldmk)        Carl Letich   \n",
      "\n",
      "               company email company phone                Address      City  \\\n",
      "0     eskoblo@energyspec.com    7186779077          1114 Avenue J  Brooklyn   \n",
      "1                        NaN    2125663000      100 Church Street        NY   \n",
      "2                        NaN    2122487160         96 Wall Street  New York   \n",
      "3  akimball@industrycity.com    3474178429  220 36th St, Suite 2A  Brooklyn   \n",
      "4      clettich@silvprop.com    2124064020           120 Broadway  New York   \n",
      "\n",
      "  State  Postcode    Industry  \\\n",
      "0    NY     11230  Commercial   \n",
      "1    NY     10007  Commercial   \n",
      "2    NY     10005    Landlord   \n",
      "3    NY     11232    Landlord   \n",
      "4    NY     10271  Commercial   \n",
      "\n",
      "                                      Industry descr  ...  \\\n",
      "0                                  35 story building  ...   \n",
      "1                                          21 Floors  ...   \n",
      "2                                                NaN  ...   \n",
      "3  Special Eligible Premises for eligible businesses  ...   \n",
      "4                                                NaN  ...   \n",
      "\n",
      "  Savings from beginning receiving benefits   Borough   Latitude  Longitude  \\\n",
      "0                                    349.78  Brooklyn  40.624784 -73.964920   \n",
      "1                                4423698.05  New York  40.712968 -74.009490   \n",
      "2                                1814542.62  New York  40.705052 -74.007199   \n",
      "3                                   6755.31  Brooklyn  40.656061 -74.007334   \n",
      "4                                3293055.08  New York  40.708546 -74.011041   \n",
      "\n",
      "  Community Board  Council District  Census Tract        BIN           BBL  \\\n",
      "0           314.0              44.0         534.0  3179818.0  3.067130e+09   \n",
      "1           101.0               1.0          21.0  1001409.0  1.001250e+09   \n",
      "2           101.0               1.0           7.0  1000875.0  1.000380e+09   \n",
      "3           307.0              38.0           2.0  3398687.0  3.006950e+09   \n",
      "4           101.0               1.0           7.0  1001026.0  1.000478e+09   \n",
      "\n",
      "                                      NTA  \n",
      "0                                 Midwood  \n",
      "1  SoHo-TriBeCa-Civic Center-Little Italy  \n",
      "2       Battery Park City-Lower Manhattan  \n",
      "3                        Sunset Park West  \n",
      "4       Battery Park City-Lower Manhattan  \n",
      "\n",
      "[5 rows x 26 columns]\n"
     ]
    }
   ],
   "source": [
    "print(df.head())"
   ]
  },
  {
   "cell_type": "code",
   "execution_count": 4,
   "id": "17f8144b",
   "metadata": {},
   "outputs": [
    {
     "name": "stdout",
     "output_type": "stream",
     "text": [
      "Index(['Company Name', 'company contact', 'company email', 'company phone',\n",
      "       'Address', 'City', 'State', 'Postcode', 'Industry', 'Industry descr',\n",
      "       'Company Type', 'Current fulltime', 'Job created', 'Job retain',\n",
      "       'Effective Date', 'Total Savings',\n",
      "       'Savings from beginning receiving benefits', 'Borough', 'Latitude',\n",
      "       'Longitude', 'Community Board', 'Council District', 'Census Tract',\n",
      "       'BIN', 'BBL', 'NTA'],\n",
      "      dtype='object')\n"
     ]
    }
   ],
   "source": [
    "print(df.columns)"
   ]
  },
  {
   "cell_type": "markdown",
   "id": "0424adfa",
   "metadata": {},
   "source": [
    "## Day 4"
   ]
  },
  {
   "cell_type": "markdown",
   "id": "c90ad787",
   "metadata": {},
   "source": [
    "### Q1. How many different companies are represented in the data set?"
   ]
  },
  {
   "cell_type": "code",
   "execution_count": 5,
   "id": "e442c09b",
   "metadata": {},
   "outputs": [
    {
     "name": "stdout",
     "output_type": "stream",
     "text": [
      "Number of different companies in the dataset: 439\n"
     ]
    }
   ],
   "source": [
    "num_companies = df['Company Name'].nunique()\n",
    "print(\"Number of different companies in the dataset:\", num_companies)"
   ]
  },
  {
   "cell_type": "markdown",
   "id": "4f007df3",
   "metadata": {},
   "source": [
    "### Q2. What is the total number of jobs created for businesses in Queens?"
   ]
  },
  {
   "cell_type": "code",
   "execution_count": 6,
   "id": "cea026aa",
   "metadata": {},
   "outputs": [
    {
     "name": "stdout",
     "output_type": "stream",
     "text": [
      "Total number of jobs created for businesses in Queens:  90.0\n"
     ]
    }
   ],
   "source": [
    "total_jobs_queens = df.loc[df['City'] == 'Queens', 'Job created'].sum()\n",
    "print(\"Total number of jobs created for businesses in Queens: \", total_jobs_queens)"
   ]
  },
  {
   "cell_type": "markdown",
   "id": "a13219a8",
   "metadata": {},
   "source": [
    "### Q3. How many different unique email domains names are there in the data set?"
   ]
  },
  {
   "cell_type": "code",
   "execution_count": 7,
   "id": "d79d1733",
   "metadata": {},
   "outputs": [
    {
     "name": "stdout",
     "output_type": "stream",
     "text": [
      "Number of unique email domains: 361\n"
     ]
    }
   ],
   "source": [
    "df['domain'] = df['company email'].str.split('@').str[-1]\n",
    "num_domains = df['domain'].nunique()\n",
    "print(\"Number of unique email domains:\", num_domains)"
   ]
  },
  {
   "cell_type": "markdown",
   "id": "a8d5f81f",
   "metadata": {},
   "source": [
    "### Q4. Considering only NTAs with at least 5 listed businesses, what is the average total savings and the total jobs created for each NTA?"
   ]
  },
  {
   "cell_type": "code",
   "execution_count": 8,
   "id": "f531842a",
   "metadata": {},
   "outputs": [],
   "source": [
    "nta_filtered = df.groupby('NTA').filter(lambda x: len(x) >= 5)\n",
    "nta_stats = nta_filtered.groupby('NTA').agg({'Total Savings': 'mean', 'Job created': 'sum'}).reset_index()\n"
   ]
  },
  {
   "cell_type": "code",
   "execution_count": 9,
   "id": "ab33db42",
   "metadata": {},
   "outputs": [],
   "source": [
    "nta_stats.to_csv('Savings_Jobs_NTA5.csv', index=False)"
   ]
  },
  {
   "cell_type": "markdown",
   "id": "b4be6d3d",
   "metadata": {},
   "source": [
    "# Day 5"
   ]
  },
  {
   "cell_type": "code",
   "execution_count": 10,
   "id": "faed83c2",
   "metadata": {},
   "outputs": [],
   "source": [
    "import matplotlib.pyplot as plt"
   ]
  },
  {
   "cell_type": "markdown",
   "id": "46f989cd",
   "metadata": {},
   "source": [
    "### scatter plot of jobs created versus average saving (standard scale) (nta_stats)"
   ]
  },
  {
   "cell_type": "code",
   "execution_count": 11,
   "id": "59bea127",
   "metadata": {},
   "outputs": [
    {
     "data": {
      "image/png": "[encoded data removed]",
      "text/plain": [
       "<Figure size 432x288 with 1 Axes>"
      ]
     },
     "metadata": {
      "needs_background": "light"
     },
     "output_type": "display_data"
    }
   ],
   "source": [
    "plt.scatter(nta_stats['Total Savings'], nta_stats['Job created'])\n",
    "plt.xlabel('Average Savings')\n",
    "plt.ylabel('Job Created')\n",
    "plt.title('Scatter plot of Jobs Created versus Average Savings (Standard Scale)')\n",
    "plt.show()"
   ]
  },
  {
   "cell_type": "markdown",
   "id": "8c560ee5",
   "metadata": {},
   "source": [
    "### scatter plot of jobs created versus average saving (standard scale) (nta_stats)"
   ]
  },
  {
   "cell_type": "code",
   "execution_count": 12,
   "id": "1f999c19",
   "metadata": {},
   "outputs": [
    {
     "data": {
      "image/png": "[encoded data removed]",
      "text/plain": [
       "<Figure size 432x288 with 1 Axes>"
      ]
     },
     "metadata": {
      "needs_background": "light"
     },
     "output_type": "display_data"
    }
   ],
   "source": [
    "plt.scatter(nta_stats['Total Savings'], nta_stats['Job created'])\n",
    "plt.xscale('log')\n",
    "plt.xlabel('Average Savings (log scale)')\n",
    "plt.ylabel('Job Created')\n",
    "plt.title('Scatter plot of Jobs Created versus Average Savings (Logarithmic Scale)')\n",
    "plt.show()"
   ]
  },
  {
   "cell_type": "markdown",
   "id": "a5022c5c",
   "metadata": {},
   "source": [
    "### histogram of the log of the average total savings (nta_filtered)"
   ]
  },
  {
   "cell_type": "code",
   "execution_count": 13,
   "id": "333b80b7",
   "metadata": {},
   "outputs": [],
   "source": [
    "import numpy as np"
   ]
  },
  {
   "cell_type": "code",
   "execution_count": 14,
   "id": "a88406c7",
   "metadata": {},
   "outputs": [
    {
     "data": {
      "image/png": "[encoded data removed]",
      "text/plain": [
       "<Figure size 432x288 with 1 Axes>"
      ]
     },
     "metadata": {
      "needs_background": "light"
     },
     "output_type": "display_data"
    }
   ],
   "source": [
    "log_avg_savings = nta_filtered.groupby('NTA')['Total Savings'].mean().apply(lambda x: np.log10(x))\n",
    "\n",
    "plt.hist(log_avg_savings, bins=20)\n",
    "plt.xlabel('Log of Average Total Savings')\n",
    "plt.ylabel('Frequency')\n",
    "plt.title('Histogram of Log of Average Total Savings')\n",
    "plt.show()"
   ]
  },
  {
   "cell_type": "markdown",
   "id": "f810daf8",
   "metadata": {},
   "source": [
    "### line plot of the total jobs created for each month (full_data)"
   ]
  },
  {
   "cell_type": "code",
   "execution_count": 15,
   "id": "024940d6",
   "metadata": {},
   "outputs": [],
   "source": [
    "import matplotlib.dates as mdates"
   ]
  },
  {
   "cell_type": "code",
   "execution_count": 16,
   "id": "c6eaacd0",
   "metadata": {},
   "outputs": [],
   "source": [
    "df['Date'] = pd.to_datetime(df['Effective Date'])  # Convert the 'Date' column to datetime\n",
    "df.set_index('Date', inplace=True)  # Set the 'Date' column as the DataFrame's index\n",
    " # Aggregate jobs created by month\n",
    "df.dropna(subset=['Job created'], inplace=True)"
   ]
  },
  {
   "cell_type": "code",
   "execution_count": 17,
   "id": "d82b3b55",
   "metadata": {},
   "outputs": [
    {
     "name": "stdout",
     "output_type": "stream",
     "text": [
      "Date\n",
      "2004-03-05    10.0\n",
      "2007-06-28    60.0\n",
      "2007-11-06     5.0\n",
      "2005-02-03    12.0\n",
      "2006-03-01    10.0\n",
      "2007-05-02     2.0\n",
      "2007-04-10     2.0\n",
      "1993-02-05    15.0\n",
      "2007-06-08     3.0\n",
      "2007-07-02    20.0\n",
      "2008-12-09    10.0\n",
      "Name: Job created, dtype: float64\n"
     ]
    }
   ],
   "source": [
    "print(df['Job created']) #there are only limited datapoints for monthly job created."
   ]
  },
  {
   "cell_type": "code",
   "execution_count": 18,
   "id": "22331350",
   "metadata": {},
   "outputs": [],
   "source": [
    "jobs_by_month = df.resample('M').sum() "
   ]
  },
  {
   "cell_type": "code",
   "execution_count": 19,
   "id": "5516be05",
   "metadata": {},
   "outputs": [
    {
     "data": {
      "image/png": "[encoded data removed]",
      "text/plain": [
       "<Figure size 720x432 with 1 Axes>"
      ]
     },
     "metadata": {
      "needs_background": "light"
     },
     "output_type": "display_data"
    }
   ],
   "source": [
    "# Create a line plot of jobs created by month\n",
    "fig, ax = plt.subplots(figsize=(10, 6))\n",
    "ax.plot(jobs_by_month.index, jobs_by_month['Job created'])\n",
    "ax.set_xlabel('Month')\n",
    "ax.set_ylabel('Total Jobs Created')\n",
    "ax.set_title('Total Jobs Created by Month')\n",
    "\n",
    "plt.show()"
   ]
  }
 ],
 "metadata": {
  "kernelspec": {
   "display_name": "Python 3 (ipykernel)",
   "language": "python",
   "name": "python3"
  },
  "language_info": {
   "codemirror_mode": {
    "name": "ipython",
    "version": 3
   },
   "file_extension": ".py",
   "mimetype": "text/x-python",
   "name": "python",
   "nbconvert_exporter": "python",
   "pygments_lexer": "ipython3",
   "version": "3.9.12"
  }
 },
 "nbformat": 4,
 "nbformat_minor": 5
}
